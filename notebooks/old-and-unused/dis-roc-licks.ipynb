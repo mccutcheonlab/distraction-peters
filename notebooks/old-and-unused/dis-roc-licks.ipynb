{
 "cells": [
  {
   "cell_type": "code",
   "execution_count": 62,
   "metadata": {},
   "outputs": [],
   "source": [
    "import dill\n",
    "import matplotlib.pyplot as plt\n",
    "import matplotlib as mpl\n",
    "import matplotlib.transforms as transforms\n",
    "from matplotlib.backends.backend_pdf import PdfPages\n",
    "import matplotlib.gridspec as gridspec\n",
    "from matplotlib.colors import LinearSegmentedColormap\n",
    "import numpy as np\n",
    "\n",
    "%run ../JM_custom_figs.py\n",
    "%run ../fx4roc.py"
   ]
  },
  {
   "cell_type": "code",
   "execution_count": 26,
   "metadata": {},
   "outputs": [],
   "source": [
    "datafolder = \"C:\\\\Github\\\\Distraction-Paper\\\\data\\\\\"\n",
    "figfolder = \"C:\\\\Github\\\\Distraction-Paper\\\\figs\\\\\"\n",
    "outputfolder = \"C:\\\\Github\\\\Distraction-Paper\\\\output\\\\\"\n",
    "\n",
    "try:\n",
    "    pickle_in = open(datafolder + \"distraction_data_only_snips.pickle\", 'rb')\n",
    "except FileNotFoundError:\n",
    "        print('Cannot access pickled file')\n",
    "\n",
    "[modDict, disDict, habDict] = dill.load(pickle_in)\n",
    "\n",
    "try:\n",
    "    pickle_in = open(outputfolder+\"roc_results_licks\", 'rb')\n",
    "except FileNotFoundError:\n",
    "        print('Cannot access pickled file')\n",
    "\n",
    "[a, p] = dill.load(pickle_in)"
   ]
  },
  {
   "cell_type": "code",
   "execution_count": 27,
   "metadata": {},
   "outputs": [
    {
     "data": {
      "text/plain": [
       "dict_keys(['rat', 'fs', 'tick', 'filt_sd', 'licks', 'licks_off', 'distractors', 'distracted', 'notdistracted', 'd_bool_array', 'pdp', 'pre_dp', 'lickdata', 'snips_distractors', 'snips_distracted', 'snips_not-distracted'])"
      ]
     },
     "execution_count": 27,
     "metadata": {},
     "output_type": "execute_result"
    }
   ],
   "source": [
    "rats = disDict.keys()\n",
    "rat= 'thph1.2'\n",
    "d = disDict[rat]\n",
    "d.keys()"
   ]
  },
  {
   "cell_type": "code",
   "execution_count": 28,
   "metadata": {},
   "outputs": [],
   "source": [
    "# Makes lick snips for all distractors and then flattens (e.g. pools snips from all rats)\n",
    "\n",
    "def make_lick_snips(d, pre=5, post=15):\n",
    "    snips = []\n",
    "    for dis in d['distractors']:\n",
    "        snips.append([lick-dis for lick in d['licks'] if (lick-dis>-pre) and (lick-dis<post) ])\n",
    "        \n",
    "    return snips\n",
    "\n",
    "all_lick_snips = []\n",
    "for rat in rats:\n",
    "    d = disDict[rat]\n",
    "    all_lick_snips.append(make_lick_snips(d))\n",
    "\n",
    "all_lick_snips_flat = flatten_list(all_lick_snips)"
   ]
  },
  {
   "cell_type": "code",
   "execution_count": 29,
   "metadata": {},
   "outputs": [],
   "source": [
    "# This cell uses a simple function to check whether any licks occur between 0 and 1 seconds (i.e. is it a distracted snip or not)\n",
    "\n",
    "def check_val_between(data, x1=0.001, x2=1.000):\n",
    "    \"\"\" Checks if there is a value in a list between two numbers\"\"\"\n",
    "    \n",
    "    vals = [1 for d in data if d>x1 and d<x2]\n",
    "    \n",
    "    if sum(vals) > 0:\n",
    "        return True\n",
    "    else:\n",
    "        return False\n",
    "    \n",
    "dis_snips = [snip for snip in all_lick_snips_flat if not check_val_between(snip)]\n",
    "notdis_snips = [snip for snip in all_lick_snips_flat if check_val_between(snip)]"
   ]
  },
  {
   "cell_type": "code",
   "execution_count": 30,
   "metadata": {},
   "outputs": [
    {
     "data": {
      "text/plain": [
       "344"
      ]
     },
     "execution_count": 30,
     "metadata": {},
     "output_type": "execute_result"
    }
   ],
   "source": [
    "# Test to ensure that code using check_val_between is selecting correct number of distracted and non-distracted snips\n",
    "number_of_distracted_snips=[]\n",
    "\n",
    "for rat in rats:\n",
    "    d = disDict[rat]\n",
    "    number_of_distracted_snips.append(len(d['snips_distracted']['filt_z']))\n",
    "sum(number_of_distracted_snips)"
   ]
  },
  {
   "cell_type": "code",
   "execution_count": 31,
   "metadata": {},
   "outputs": [],
   "source": [
    "# turns snips into binned data\n",
    "\n",
    "# bins = np.arange(-10, 20, 1)\n",
    "bins = np.arange(-5, 15, 1)\n",
    "dis_hist = [np.histogram(snip, bins=bins)[0] for snip in dis_snips]\n",
    "notdis_hist = [np.histogram(snip, bins=bins)[0] for snip in notdis_snips]"
   ]
  },
  {
   "cell_type": "code",
   "execution_count": 32,
   "metadata": {
    "scrolled": true
   },
   "outputs": [
    {
     "name": "stdout",
     "output_type": "stream",
     "text": [
      "Analysing column 0\n",
      "Analysing column 1\n",
      "Analysing column 2\n",
      "Analysing column 3\n",
      "Analysing column 4\n",
      "Analysing column 5\n",
      "Analysing column 6\n",
      "Analysing column 7\n",
      "Analysing column 8\n",
      "Analysing column 9\n",
      "Analysing column 10\n",
      "Analysing column 11\n",
      "Analysing column 12\n",
      "Analysing column 13\n",
      "Analysing column 14\n",
      "Analysing column 15\n",
      "Analysing column 16\n",
      "Analysing column 17\n",
      "Analysing column 18\n",
      "--- Total ROC analysis took 207.96642017364502 seconds ---\n"
     ]
    }
   ],
   "source": [
    "# Cell to run ROC analysis - takes a while so commented out unless needed\n",
    "import time\n",
    "start_time = time.time()\n",
    "\n",
    "a, p = nanroc(notdis_hist, dis_hist, n4shuf=2000)\n",
    "\n",
    "print(f\"--- Total ROC analysis took {(time.time() - start_time)} seconds ---\")\n",
    "\n"
   ]
  },
  {
   "cell_type": "code",
   "execution_count": 33,
   "metadata": {},
   "outputs": [],
   "source": [
    "savefile=True\n",
    "if savefile:\n",
    "    pickle_out = open(outputfolder+\"roc_results_licks\", 'wb')\n",
    "    dill.dump([a, p], pickle_out)\n",
    "    pickle_out.close()"
   ]
  },
  {
   "cell_type": "code",
   "execution_count": 34,
   "metadata": {},
   "outputs": [
    {
     "data": {
      "image/png": "[encoded data removed]",
      "text/plain": [
       "<Figure size 432x288 with 3 Axes>"
      ]
     },
     "metadata": {
      "needs_background": "light"
     },
     "output_type": "display_data"
    }
   ],
   "source": [
    "f, ax = plt.subplots(nrows=3)\n",
    "\n",
    "ax[0].plot(np.mean(dis_hist, axis=0), color='red')\n",
    "ax[0].plot(np.mean(notdis_hist, axis=0), color='grey')\n",
    "\n",
    "ax[0].set_ylabel('Licks (Hz)')\n",
    "ax[0].set_xticks([])\n",
    "\n",
    "ax[0].text(0.99, 0.95, 'Distracted', color='red', ha='right', va='top', transform=ax[0].transAxes)\n",
    "ax[0].text(0.99, 0.80, 'Not distracted', color='grey', ha='right', va='top', transform=ax[0].transAxes)\n",
    "\n",
    "ax[1].plot(a)\n",
    "ax[1].set_ylabel('ROC value')\n",
    "ax[1].set_xticks([])\n",
    "\n",
    "threshold = 0.05/len(p)\n",
    "sigpoints = np.array([pval < threshold for pval in p], dtype=bool)\n",
    "\n",
    "xdata = [x for x, L in zip(range(len(sigpoints)), sigpoints) if L]\n",
    "ydata = logical_subset(a, sigpoints)\n",
    "ax[1].scatter(xdata, ydata, color='red')\n",
    "\n",
    "ax[1]. set_ylim([-0.1, 1.1])\n",
    "\n",
    "ax[2].plot(p)\n",
    "ax[2].set_ylim([-0.1, 1.1])\n",
    "ax[2].set_ylabel('p')\n",
    "\n",
    "ax[2].set_xticks([0, 10, 20])\n",
    "ax[2].set_xticklabels(['-10', '0', '10'])\n",
    "ax[2].set_xlabel('Time from distractor (s)')\n",
    "\n",
    "# f.savefig(outputfolder + \"licks_roc_analysis.png\")\n"
   ]
  },
  {
   "cell_type": "code",
   "execution_count": 66,
   "metadata": {},
   "outputs": [
    {
     "data": {
      "image/png": "[encoded data removed]",
      "text/plain": [
       "<Figure size 244.8x144 with 3 Axes>"
      ]
     },
     "metadata": {
      "needs_background": "light"
     },
     "output_type": "display_data"
    }
   ],
   "source": [
    "import matplotlib.gridspec as gridspec\n",
    "\n",
    "f = plt.figure(figsize=(3.4,2))\n",
    "\n",
    "gs=gridspec.GridSpec(2,2, figure=f, height_ratios=[0.25, 1], width_ratios=[1, 0.05], wspace=0.05,\n",
    "                    bottom=0.2, right=0.75, left=0.15)\n",
    "\n",
    "ax[0] = f.add_subplot(gs[0, 0])\n",
    "\n",
    "# Creates colormap for ROC\n",
    "cdict=['grey', 'white', 'red']\n",
    "heatmap_color_scheme = LinearSegmentedColormap.from_list('rocmap', cdict)\n",
    "\n",
    "roc_for_plot = a\n",
    "xvals=np.arange(-0.5,19.)\n",
    "yvals=[1, 2]\n",
    "xx, yy = np.meshgrid(xvals, yvals)\n",
    "    \n",
    "mesh = ax[0].pcolormesh(xx, yy, [roc_for_plot, roc_for_plot], cmap=heatmap_color_scheme, shading = 'flat')\n",
    "mesh.set_clim([0, 1])\n",
    "\n",
    "\n",
    "xdata = [x for x, L in zip(range(len(sigpoints)), sigpoints) if L]\n",
    "ydata = logical_subset(a, sigpoints)\n",
    "ax[0].scatter(xdata, [2.5]*len(xdata), color='k', marker='.', clip_on=False)\n",
    "ax[0].text(-1, 2.5, 'p<0.05', va='center', ha='right')\n",
    "\n",
    "ax[0].spines['top'].set_visible(False)\n",
    "ax[0].spines['right'].set_visible(False)\n",
    "ax[0].spines['bottom'].set_visible(False)\n",
    "ax[0].spines['left'].set_visible(False)\n",
    "ax[0].set_xticks([])\n",
    "ax[0].set_yticks([])\n",
    "\n",
    "cbar_ax = f.add_subplot(gs[0,1])   \n",
    "cbar = f.colorbar(mesh, cax=cbar_ax, ticks=[0, 1], label='ROC')\n",
    "\n",
    "ax[1] = f.add_subplot(gs[1, 0])\n",
    "\n",
    "shadedError(ax[1], notdis_hist, linecolor='grey')\n",
    "shadedError(ax[1], dis_hist, linecolor='red')\n",
    "\n",
    "ax[1].set_ylabel('Lick rate (Hz)')\n",
    "ax[1].spines['top'].set_visible(False)\n",
    "ax[1].spines['right'].set_visible(False)\n",
    "\n",
    "# ax[1].set_xticks([0, 10, 20])\n",
    "# ax[1].set_xticklabels(['-10', '0', '10'])\n",
    "# ax[1].set_xlabel('Time from distractor (s)')\n",
    "\n",
    "ax[1].set_xticks([0, 5, 10, 15])\n",
    "ax[1].set_xticklabels(['-5', '0', '5', '10'])\n",
    "ax[1].set_xlabel('Time from distractor (s)')\n",
    "\n",
    "ax[1].text(19, np.mean(dis_hist, axis=0)[-1], 'Distracted', color='red', ha='left', va='center')\n",
    "ax[1].text(19, np.mean(notdis_hist, axis=0)[-1], 'Not distracted', ha='left', va='center')\n",
    "\n",
    "ax[0].set_xlim(ax[1].get_xlim())\n",
    "\n",
    "f.savefig(figfolder+\"fig3_roc-lickrate.pdf\")\n",
    "\n",
    "\n"
   ]
  },
  {
   "cell_type": "code",
   "execution_count": 40,
   "metadata": {},
   "outputs": [],
   "source": [
    "\n",
    "pre_lickrate_dis, pre_lickrate_notdis = [], []\n",
    "post_lickrate_dis, post_lickrate_notdis = [], []\n",
    "\n",
    "for snips in all_lick_snips:\n",
    "    \n",
    "    pre_dis, pre_notdis = [], []\n",
    "    post_dis, post_notdis = [], []\n",
    "    \n",
    "    for snip in snips:\n",
    "        \n",
    "        nlicks_before_distractor = len([lick for lick in snip if lick<0])\n",
    "        nlicks_after_distractor = len([lick for lick in snip if lick>1])\n",
    "        \n",
    "        if check_val_between(snip):\n",
    "            pre_notdis.append(nlicks_before_distractor)\n",
    "            post_notdis.append(nlicks_after_distractor)\n",
    "        else:\n",
    "            pre_dis.append(nlicks_before_distractor)\n",
    "            post_dis.append(nlicks_after_distractor)\n",
    "\n",
    "    pre_lickrate_dis.append(np.mean(pre_dis)/10) # dividing by 10 puts this into Hz as a 10s predistractor period is used\n",
    "    pre_lickrate_notdis.append(np.mean(pre_notdis)/10)\n",
    "    \n",
    "    post_lickrate_dis.append(np.mean(post_dis)/10)\n",
    "    post_lickrate_notdis.append(np.mean(post_notdis)/10)\n",
    "\n"
   ]
  },
  {
   "cell_type": "code",
   "execution_count": 47,
   "metadata": {},
   "outputs": [
    {
     "name": "stdout",
     "output_type": "stream",
     "text": [
      "Pre distractor 2.626631250085044 0.020920903320542816\n",
      "Post distractor 7.614424692690707 3.82409586364871e-06\n"
     ]
    },
    {
     "data": {
      "image/png": "[encoded data removed]",
      "text/plain": [
       "<Figure size 244.8x180 with 2 Axes>"
      ]
     },
     "metadata": {
      "needs_background": "light"
     },
     "output_type": "display_data"
    }
   ],
   "source": [
    "       \n",
    "f, ax = plt.subplots(figsize=(3.4,2.5), ncols=2)\n",
    "f.subplots_adjust(left=0.2, wspace=0.8)\n",
    "\n",
    "barscatter([pre_lickrate_notdis, pre_lickrate_dis], paired=True,\n",
    "           barfacecolor=['xkcd:light grey', 'red'], barfacecoloroption='individual',\n",
    "           ax=ax[0])\n",
    "\n",
    "barscatter([post_lickrate_notdis, post_lickrate_dis], paired=True,\n",
    "           barfacecolor=['xkcd:light grey', 'red'], barfacecoloroption='individual',\n",
    "           ax=ax[1])\n",
    "\n",
    "for axis in ax:\n",
    "    axis.set_xticks([1,2])\n",
    "    axis.set_xticklabels(['Not', 'Dis'])\n",
    "#     axis.set_xticks([])\n",
    "    \n",
    "ax[0].set_ylabel('Lick rate (Hz)')\n",
    "ax[0].set_yticks([0, 0.5, 1, 1.5])\n",
    "ax[0].set_ylim([-0.15, 1.5])\n",
    "ax[0].set_title('Pre')\n",
    "\n",
    "# ax[1].set_ylabel('Mean post-distractor lick rate (Hz)')\n",
    "ax[1].set_yticks([0, 5, 10])\n",
    "ax[1].set_ylim([-1, 10])\n",
    "ax[1].set_title('Post')\n",
    "\n",
    "f.savefig(figfolder+\"fig3_predistractor-lickrate.pdf\")\n",
    "\n",
    "from scipy import stats\n",
    "\n",
    "t, p = stats.ttest_rel(pre_lickrate_notdis, pre_lickrate_dis)\n",
    "print('Pre distractor', t, p)\n",
    "\n",
    "t, p = stats.ttest_rel(post_lickrate_notdis, post_lickrate_dis)\n",
    "print('Post distractor', t, p)"
   ]
  },
  {
   "cell_type": "markdown",
   "metadata": {},
   "source": [
    "# Note on time taken to run ROC analysis\n",
    "\n",
    "On 19 Feb 2020 ran tests to see if ROC analysis was quicker running outside of Notebook.\n",
    "\n",
    "Running inside Notebook took <u>413s</u>.\n",
    "\n",
    "<b>(1)</b> Used the magic command to pass arguments to separate script\n",
    "\n",
    "    %run ../run_roc_analysis.py \"hist_licks\" dis_hist notdis_hist 5 \"roc_results_licks\"\n",
    "\n",
    "Results show 409s (i.e. no different to running in Notebook).\n",
    "\n",
    "<b>(2)</b> Tried running completely separately within Spyder but outside Notebook (411 s)\n",
    "\n",
    "<b>(3)</b> Tried running from a command prompt\n",
    "\n",
    "    python run_roc_analysis.py\n",
    "   \n",
    "Took 389s so marginally faster but not a huge difference. Conclusion is to continue running within notebook. Will save [a, p] for easy analysis.\n",
    "\n",
    "\n",
    "NB for (2) also necessary to run the following lines:\n",
    "\n",
    "    pickle_out = open(\"hist_licks\", 'wb')\n",
    "    dill.dump([dis_hist, notdis_hist], pickle_out)\n",
    "    pickle_out.close()\n",
    "    \n",
    "NB2 Later speeded up the code by ~100x by vectorizing using Numpy functions rather than inbuilt Python methods\n"
   ]
  },
  {
   "cell_type": "code",
   "execution_count": 30,
   "metadata": {},
   "outputs": [
    {
     "data": {
      "text/plain": [
       "<BarContainer object of 59 artists>"
      ]
     },
     "execution_count": 30,
     "metadata": {},
     "output_type": "execute_result"
    },
    {
     "data": {
      "image/png": "[encoded data removed]",
      "text/plain": [
       "<Figure size 432x288 with 1 Axes>"
      ]
     },
     "metadata": {
      "needs_background": "light"
     },
     "output_type": "display_data"
    }
   ],
   "source": [
    "bins = np.arange(-10, 20, 0.5)\n",
    "data = np.histogram(flatten_list(flatten_list(all_lick_snips)), bins=bins)\n",
    "\n",
    "plt.bar(data[1][1:], data[0])"
   ]
  },
  {
   "cell_type": "code",
   "execution_count": null,
   "metadata": {},
   "outputs": [],
   "source": []
  }
 ],
 "metadata": {
  "kernelspec": {
   "display_name": "Python 3",
   "language": "python",
   "name": "python3"
  },
  "language_info": {
   "codemirror_mode": {
    "name": "ipython",
    "version": 3
   },
   "file_extension": ".py",
   "mimetype": "text/x-python",
   "name": "python",
   "nbconvert_exporter": "python",
   "pygments_lexer": "ipython3",
   "version": "3.7.6"
  }
 },
 "nbformat": 4,
 "nbformat_minor": 4
}
