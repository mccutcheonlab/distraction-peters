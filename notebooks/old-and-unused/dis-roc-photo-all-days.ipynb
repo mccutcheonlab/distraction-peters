{
 "cells": [
  {
   "cell_type": "code",
   "execution_count": 14,
   "metadata": {},
   "outputs": [],
   "source": [
    "import dill\n",
    "import matplotlib.pyplot as plt\n",
    "import matplotlib as mpl\n",
    "import matplotlib.transforms as transforms\n",
    "import numpy as np\n",
    "\n",
    "%run ../JM_custom_figs.py\n",
    "%run ../fx4roc.py\n",
    "%run ../figs4roc.py"
   ]
  },
  {
   "cell_type": "code",
   "execution_count": 5,
   "metadata": {},
   "outputs": [],
   "source": [
    "datafolder = \"C:\\\\Github\\\\Distraction-Paper\\\\data\\\\\"\n",
    "figfolder = \"C:\\\\Github\\\\Distraction-Paper\\\\figs\\\\\"\n",
    "outputfolder = \"C:\\\\Github\\\\Distraction-Paper\\\\output\\\\\"\n",
    "\n",
    "try:\n",
    "    pickle_in = open(datafolder + \"distraction_data_only_snips.pickle\", 'rb')\n",
    "except FileNotFoundError:\n",
    "        print('Cannot access pickled file')\n",
    "\n",
    "[modDict, disDict, habDict] = dill.load(pickle_in)"
   ]
  },
  {
   "cell_type": "code",
   "execution_count": 7,
   "metadata": {},
   "outputs": [],
   "source": [
    "def resample_snips(snips, factor=0.1):\n",
    "    if len(snips)>0:\n",
    "        n_bins = len(snips[0])\n",
    "        out_bins = int(n_bins * factor)\n",
    "\n",
    "        snips_out = []\n",
    "        for snip in snips:\n",
    "            snips_out.append(np.mean(np.reshape(snip, (out_bins, -1)), axis=1))\n",
    "    \n",
    "        return snips_out\n",
    "    else:\n",
    "        return []"
   ]
  },
  {
   "cell_type": "code",
   "execution_count": 8,
   "metadata": {},
   "outputs": [],
   "source": [
    "mod_dis_photo_snips, mod_notdis_photo_snips, = [], []\n",
    "dis_dis_photo_snips, dis_notdis_photo_snips, = [], []\n",
    "\n",
    "rats=disDict.keys()\n",
    "\n",
    "for rat in rats:\n",
    "    d = disDict[rat]\n",
    "    \n",
    "    snips_dis = resample_snips(d['snips_distracted']['filt_z'])\n",
    "    dis_dis_photo_snips.append(snips_dis)\n",
    "    \n",
    "    snips_notdis = resample_snips(d['snips_not-distracted']['filt_z'])\n",
    "    dis_notdis_photo_snips.append(snips_notdis)\n",
    "    \n",
    "    d = modDict[rat]\n",
    "    \n",
    "    snips_dis = resample_snips(d['snips_distracted']['filt_z'])\n",
    "    mod_dis_photo_snips.append(snips_dis)\n",
    "    \n",
    "    snips_notdis = resample_snips(d['snips_not-distracted']['filt_z'])\n",
    "    mod_notdis_photo_snips.append(snips_notdis)\n",
    "\n",
    "mod_dis_photo_snips_flat = flatten_list(mod_dis_photo_snips)\n",
    "mod_notdis_photo_snips_flat = flatten_list(mod_notdis_photo_snips)\n",
    "\n",
    "dis_dis_photo_snips_flat = flatten_list(dis_dis_photo_snips)\n",
    "dis_notdis_photo_snips_flat = flatten_list(dis_notdis_photo_snips)"
   ]
  },
  {
   "cell_type": "code",
   "execution_count": 16,
   "metadata": {},
   "outputs": [],
   "source": [
    "%run ../fx4roc.py\n",
    "import time\n",
    "start_time = time.time()\n",
    "\n",
    "a, p = nanroc(mod_dis_photo_snips_flat, dis_dis_photo_snips_flat, n4shuf=2000)\n",
    "\n",
    "print(f\"--- Total ROC analysis took {(time.time() - start_time)} seconds ---\")\n",
    "\n",
    "savefile=True\n",
    "if savefile:\n",
    "    pickle_out = open(outputfolder+\"roc_results_photo_mod-disVdis-dis\", 'wb')\n",
    "    dill.dump([a, p], pickle_out)\n",
    "    pickle_out.close()"
   ]
  },
  {
   "cell_type": "code",
   "execution_count": 24,
   "metadata": {},
   "outputs": [
    {
     "name": "stdout",
     "output_type": "stream",
     "text": [
      "Analysing column 0\n",
      "Analysing column 1\n",
      "Analysing column 2\n",
      "Analysing column 3\n",
      "Analysing column 4\n",
      "Analysing column 5\n",
      "Analysing column 6\n",
      "Analysing column 7\n",
      "Analysing column 8\n",
      "Analysing column 9\n",
      "Analysing column 10\n",
      "Analysing column 11\n",
      "Analysing column 12\n",
      "Analysing column 13\n",
      "Analysing column 14\n",
      "Analysing column 15\n",
      "Analysing column 16\n",
      "Analysing column 17\n",
      "Analysing column 18\n",
      "Analysing column 19\n",
      "--- Total ROC analysis took 327.40357780456543 seconds ---\n"
     ]
    }
   ],
   "source": [
    "%run ../fx4roc.py\n",
    "import time\n",
    "start_time = time.time()\n",
    "\n",
    "a, p = nanroc(mod_notdis_photo_snips_flat, dis_notdis_photo_snips_flat, n4shuf=2000)\n",
    "\n",
    "print(f\"--- Total ROC analysis took {(time.time() - start_time)} seconds ---\")\n",
    "\n",
    "savefile=True\n",
    "if savefile:\n",
    "    pickle_out = open(outputfolder+\"roc_results_photo_mod-notdisVdis-notdis\", 'wb')\n",
    "    dill.dump([a, p], pickle_out)\n",
    "    pickle_out.close()"
   ]
  },
  {
   "cell_type": "code",
   "execution_count": 27,
   "metadata": {},
   "outputs": [
    {
     "data": {
      "text/plain": [
       "[0.2455,\n",
       " 0.48,\n",
       " 0.125,\n",
       " 0.588,\n",
       " 0.627,\n",
       " 0.0655,\n",
       " 0.0,\n",
       " 0.028,\n",
       " 0.5925,\n",
       " 0.3355,\n",
       " 0.0625,\n",
       " 0.0505,\n",
       " 0.024,\n",
       " 0.022,\n",
       " 0.0795,\n",
       " 0.014,\n",
       " 0.010499999999999999,\n",
       " 0.0055,\n",
       " 0.0,\n",
       " 0.005]"
      ]
     },
     "execution_count": 27,
     "metadata": {},
     "output_type": "execute_result"
    }
   ],
   "source": [
    "p"
   ]
  },
  {
   "cell_type": "code",
   "execution_count": 32,
   "metadata": {},
   "outputs": [
    {
     "data": {
      "image/png": "[encoded data removed]",
      "text/plain": [
       "<Figure size 244.8x144 with 3 Axes>"
      ]
     },
     "metadata": {
      "needs_background": "light"
     },
     "output_type": "display_data"
    }
   ],
   "source": [
    "try:\n",
    "    pickle_in = open(outputfolder+\"roc_results_photo_mod-disVdis-dis\", 'rb')\n",
    "except FileNotFoundError:\n",
    "        print('Cannot access pickled file')\n",
    "        \n",
    "[a, p] = dill.load(pickle_in)\n",
    "\n",
    "f = plt.figure(figsize=(3.4,2))\n",
    "f, ax = plot_ROC_and_line(f, a, p, mod_dis_photo_snips_flat, dis_dis_photo_snips_flat,\n",
    "                 cdict = [(0, 'darkturquoise'), (0.25, 'darkturquoise'), (0.5, 'white'), (0.75, 'dodgerblue'), (1, 'dodgerblue')],\n",
    "                 colors = ['darkturquoise', 'dodgerblue'],\n",
    "                 labels=['Modelled', 'Distraction'],\n",
    "                 labeloffset=0,\n",
    "                 ylabel='Z-score')\n",
    "\n",
    "ax[1].set_yticks([0, 2, 4])\n",
    "\n",
    "f.savefig(figfolder+\"fig4_mod-v-dis_distracted trials_photo.pdf\")"
   ]
  },
  {
   "cell_type": "code",
   "execution_count": 31,
   "metadata": {},
   "outputs": [
    {
     "data": {
      "image/png": "[encoded data removed]",
      "text/plain": [
       "<Figure size 244.8x144 with 3 Axes>"
      ]
     },
     "metadata": {
      "needs_background": "light"
     },
     "output_type": "display_data"
    }
   ],
   "source": [
    "try:\n",
    "    pickle_in = open(outputfolder+\"roc_results_photo_mod-notdisVdis-notdis\", 'rb')\n",
    "except FileNotFoundError:\n",
    "        print('Cannot access pickled file')\n",
    "        \n",
    "[a, p] = dill.load(pickle_in)\n",
    "        \n",
    "f = plt.figure(figsize=(3.4,2))\n",
    "f, ax = plot_ROC_and_line(f, a, p, mod_notdis_photo_snips_flat, dis_notdis_photo_snips_flat,\n",
    "                 cdict = [(0, 'darkturquoise'), (0.25, 'darkturquoise'), (0.5, 'white'), (0.75, 'dodgerblue'), (1, 'dodgerblue')],\n",
    "                 colors = ['darkturquoise', 'dodgerblue'],\n",
    "                 labels=['Modelled', 'Distraction'],\n",
    "                 labeloffset=0,\n",
    "                 ylabel='Z-score')\n",
    "\n",
    "ax[1].set_yticks([-1, 0, 1])\n",
    "\n",
    "f.savefig(figfolder+\"fig4_mod-v-dis_notdistracted trials_photo.pdf\")"
   ]
  },
  {
   "cell_type": "code",
   "execution_count": 21,
   "metadata": {},
   "outputs": [
    {
     "data": {
      "text/plain": [
       "[0.07400000000000001,\n",
       " 0.7725,\n",
       " 0.025500000000000002,\n",
       " 0.952,\n",
       " 0.178,\n",
       " 0.0575,\n",
       " 0.643,\n",
       " 0.2615,\n",
       " 0.5985,\n",
       " 0.158,\n",
       " 0.271,\n",
       " 0.047,\n",
       " 0.05550000000000001,\n",
       " 0.058499999999999996,\n",
       " 0.052000000000000005,\n",
       " 0.175,\n",
       " 0.353,\n",
       " 0.4195,\n",
       " 0.347,\n",
       " 0.033]"
      ]
     },
     "execution_count": 21,
     "metadata": {},
     "output_type": "execute_result"
    }
   ],
   "source": [
    "p"
   ]
  },
  {
   "cell_type": "code",
   "execution_count": null,
   "metadata": {},
   "outputs": [],
   "source": []
  }
 ],
 "metadata": {
  "kernelspec": {
   "display_name": "Python 3",
   "language": "python",
   "name": "python3"
  },
  "language_info": {
   "codemirror_mode": {
    "name": "ipython",
    "version": 3
   },
   "file_extension": ".py",
   "mimetype": "text/x-python",
   "name": "python",
   "nbconvert_exporter": "python",
   "pygments_lexer": "ipython3",
   "version": "3.7.6"
  }
 },
 "nbformat": 4,
 "nbformat_minor": 4
}
