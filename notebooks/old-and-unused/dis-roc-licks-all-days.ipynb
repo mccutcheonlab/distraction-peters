{
 "cells": [
  {
   "cell_type": "code",
   "execution_count": 3,
   "metadata": {},
   "outputs": [],
   "source": [
    "import dill\n",
    "import matplotlib.pyplot as plt\n",
    "import matplotlib as mpl\n",
    "import matplotlib.transforms as transforms\n",
    "import numpy as np\n",
    "\n",
    "%run ../JM_custom_figs.py\n",
    "%run ../fx4roc.py\n",
    "%run ../figs4roc.py"
   ]
  },
  {
   "cell_type": "code",
   "execution_count": 4,
   "metadata": {},
   "outputs": [],
   "source": [
    "datafolder = \"C:\\\\Github\\\\Distraction-Paper\\\\data\\\\\"\n",
    "figfolder = \"C:\\\\Github\\\\Distraction-Paper\\\\figs\\\\\"\n",
    "outputfolder = \"C:\\\\Github\\\\Distraction-Paper\\\\output\\\\\"\n",
    "\n",
    "try:\n",
    "    pickle_in = open(datafolder + \"distraction_data_only_snips.pickle\", 'rb')\n",
    "except FileNotFoundError:\n",
    "        print('Cannot access pickled file')\n",
    "\n",
    "[modDict, disDict, habDict] = dill.load(pickle_in)"
   ]
  },
  {
   "cell_type": "code",
   "execution_count": 6,
   "metadata": {},
   "outputs": [],
   "source": [
    "# Makes lick snips for all distractors and then flattens (e.g. pools snips from all rats)\n",
    "\n",
    "def make_lick_snips(d, pre=5, post=15):\n",
    "    snips = []\n",
    "    for dis in d['distractors']:\n",
    "        snips.append([lick-dis for lick in d['licks'] if (lick-dis>-pre) and (lick-dis<post) ])\n",
    "        \n",
    "    return snips\n",
    "\n",
    "rats = disDict.keys()\n",
    "\n",
    "mod_lick_snips, dis_lick_snips = [], []\n",
    "for rat in rats:\n",
    "    d = modDict[rat]\n",
    "    mod_lick_snips.append(make_lick_snips(d))\n",
    "    \n",
    "    d = disDict[rat]\n",
    "    dis_lick_snips.append(make_lick_snips(d))\n",
    "\n",
    "mod_lick_snips_flat = flatten_list(mod_lick_snips)\n",
    "dis_lick_snips_flat = flatten_list(dis_lick_snips)"
   ]
  },
  {
   "cell_type": "code",
   "execution_count": 19,
   "metadata": {},
   "outputs": [
    {
     "name": "stdout",
     "output_type": "stream",
     "text": [
      "Number of DISTRACTED trials on MODELLED day is 30\n",
      "Number of NOT DISTRACTED trials on MODELLED day is 741\n",
      "Number of DISTRACTED trials on DISTRACTION day is 344\n",
      "Number of NOT DISTRACTED trials on DISTRACTION day is 397\n"
     ]
    }
   ],
   "source": [
    "# This cell uses a simple function to check whether any licks occur between 0 and 1 seconds (i.e. is it a distracted snip or not)\n",
    "\n",
    "def check_val_between(data, x1=0.001, x2=1.000):\n",
    "    \"\"\" Checks if there is a value in a list between two numbers\"\"\"\n",
    "    \n",
    "    vals = [1 for d in data if d>x1 and d<x2]\n",
    "    \n",
    "    if sum(vals) > 0:\n",
    "        return True\n",
    "    else:\n",
    "        return False\n",
    "    \n",
    "mod_dis_snips = [snip for snip in mod_lick_snips_flat if not check_val_between(snip)]\n",
    "mod_notdis_snips = [snip for snip in mod_lick_snips_flat if check_val_between(snip)]\n",
    "\n",
    "dis_dis_snips = [snip for snip in dis_lick_snips_flat if not check_val_between(snip)]\n",
    "dis_notdis_snips = [snip for snip in dis_lick_snips_flat if check_val_between(snip)]\n",
    "\n",
    "print(f\"Number of DISTRACTED trials on MODELLED day is {len(mod_dis_snips)}\")\n",
    "print(f\"Number of NOT DISTRACTED trials on MODELLED day is {len(mod_notdis_snips)}\")\n",
    "print(f\"Number of DISTRACTED trials on DISTRACTION day is {len(dis_dis_snips)}\")\n",
    "print(f\"Number of NOT DISTRACTED trials on DISTRACTION day is {len(dis_notdis_snips)}\")"
   ]
  },
  {
   "cell_type": "code",
   "execution_count": 18,
   "metadata": {},
   "outputs": [
    {
     "data": {
      "text/plain": [
       "741"
      ]
     },
     "execution_count": 18,
     "metadata": {},
     "output_type": "execute_result"
    }
   ],
   "source": [
    "# Cell to test that code using check_val_between is selecting correct number of distracted and non-distracted snips\n",
    "snips=[]\n",
    "\n",
    "for rat in rats:\n",
    "    d = modDict[rat]\n",
    "    snips.append(len(d['snips_not-distracted']['filt_z']))\n",
    "sum(snips)"
   ]
  },
  {
   "cell_type": "code",
   "execution_count": 20,
   "metadata": {},
   "outputs": [],
   "source": [
    "# turns snips into binned data\n",
    "\n",
    "# bins = np.arange(-10, 20, 1)\n",
    "bins = np.arange(-5, 15, 1)\n",
    "mod_dis_hist = [np.histogram(snip, bins=bins)[0] for snip in mod_dis_snips]\n",
    "mod_notdis_hist = [np.histogram(snip, bins=bins)[0] for snip in mod_notdis_snips]\n",
    "\n",
    "dis_dis_hist = [np.histogram(snip, bins=bins)[0] for snip in dis_dis_snips]\n",
    "dis_notdis_hist = [np.histogram(snip, bins=bins)[0] for snip in dis_notdis_snips]"
   ]
  },
  {
   "cell_type": "code",
   "execution_count": 21,
   "metadata": {},
   "outputs": [
    {
     "name": "stdout",
     "output_type": "stream",
     "text": [
      "Analysing column 0\n",
      "Analysing column 1\n",
      "Analysing column 2\n",
      "Analysing column 3\n",
      "Analysing column 4\n",
      "Analysing column 5\n",
      "Analysing column 6\n",
      "Analysing column 7\n",
      "Analysing column 8\n",
      "Analysing column 9\n",
      "Analysing column 10\n",
      "Analysing column 11\n",
      "Analysing column 12\n",
      "Analysing column 13\n",
      "Analysing column 14\n",
      "Analysing column 15\n",
      "Analysing column 16\n",
      "Analysing column 17\n",
      "Analysing column 18\n",
      "--- Total ROC analysis took 119.07851552963257 seconds ---\n"
     ]
    }
   ],
   "source": [
    "# Cell to run ROC analysis - takes a while so commented out unless needed\n",
    "import time\n",
    "start_time = time.time()\n",
    "\n",
    "a, p = nanroc(mod_dis_hist, dis_dis_hist, n4shuf=2000)\n",
    "\n",
    "print(f\"--- Total ROC analysis took {(time.time() - start_time)} seconds ---\")"
   ]
  },
  {
   "cell_type": "code",
   "execution_count": 34,
   "metadata": {},
   "outputs": [
    {
     "data": {
      "text/plain": [
       "Text(0.5, 0, 'Time from distractor (s)')"
      ]
     },
     "execution_count": 34,
     "metadata": {},
     "output_type": "execute_result"
    },
    {
     "data": {
      "image/png": "[encoded data removed]",
      "text/plain": [
       "<Figure size 432x288 with 3 Axes>"
      ]
     },
     "metadata": {
      "needs_background": "light"
     },
     "output_type": "display_data"
    }
   ],
   "source": [
    "f, ax = plt.subplots(nrows=3)\n",
    "\n",
    "ax[0].plot(np.mean(mod_dis_hist, axis=0), color='red')\n",
    "ax[0].plot(np.mean(dis_dis_hist, axis=0), color='grey')\n",
    "\n",
    "ax[0].set_ylabel('Licks (Hz)')\n",
    "ax[0].set_xticks([])\n",
    "\n",
    "ax[0].text(0.99, 0.95, 'Modelled - distracted', color='red', ha='right', va='top', transform=ax[0].transAxes)\n",
    "ax[0].text(0.99, 0.80, 'Distraction - distracted', color='grey', ha='right', va='top', transform=ax[0].transAxes)\n",
    "\n",
    "ax[1].plot(a)\n",
    "ax[1].set_ylabel('ROC value')\n",
    "ax[1].set_xticks([])\n",
    "\n",
    "threshold = 0.05/len(p)\n",
    "sigpoints = np.array([pval < threshold for pval in p], dtype=bool)\n",
    "\n",
    "xdata = [x for x, L in zip(range(len(sigpoints)), sigpoints) if L]\n",
    "ydata = logical_subset(a, sigpoints)\n",
    "ax[1].scatter(xdata, ydata, color='red')\n",
    "\n",
    "ax[1]. set_ylim([-0.1, 1.1])\n",
    "\n",
    "ax[2].plot(p)\n",
    "ax[2].set_ylim([-0.1, 1.1])\n",
    "ax[2].set_ylabel('p')\n",
    "\n",
    "ax[2].set_xticks([0, 10, 20])\n",
    "ax[2].set_xticklabels(['-10', '0', '10'])\n",
    "ax[2].set_xlabel('Time from distractor (s)')"
   ]
  },
  {
   "cell_type": "code",
   "execution_count": 27,
   "metadata": {},
   "outputs": [],
   "source": [
    "savefile=True\n",
    "if savefile:\n",
    "    pickle_out = open(outputfolder+\"roc_results_licks_mod-disVdis-dis\", 'wb')\n",
    "    dill.dump([a, p], pickle_out)\n",
    "    pickle_out.close()"
   ]
  },
  {
   "cell_type": "code",
   "execution_count": 28,
   "metadata": {},
   "outputs": [
    {
     "name": "stdout",
     "output_type": "stream",
     "text": [
      "Analysing column 0\n",
      "Analysing column 1\n",
      "Analysing column 2\n",
      "Analysing column 3\n",
      "Analysing column 4\n",
      "Analysing column 5\n",
      "Analysing column 6\n",
      "Analysing column 7\n",
      "Analysing column 8\n",
      "Analysing column 9\n",
      "Analysing column 10\n",
      "Analysing column 11\n",
      "Analysing column 12\n",
      "Analysing column 13\n",
      "Analysing column 14\n",
      "Analysing column 15\n",
      "Analysing column 16\n",
      "Analysing column 17\n",
      "Analysing column 18\n",
      "--- Total ROC analysis took 301.8006203174591 seconds ---\n"
     ]
    }
   ],
   "source": [
    "# Cell to run ROC analysis - takes a while so commented out unless needed\n",
    "import time\n",
    "start_time = time.time()\n",
    "\n",
    "a, p = nanroc(mod_notdis_hist, dis_notdis_hist, n4shuf=2000)\n",
    "\n",
    "print(f\"--- Total ROC analysis took {(time.time() - start_time)} seconds ---\")"
   ]
  },
  {
   "cell_type": "code",
   "execution_count": 29,
   "metadata": {},
   "outputs": [],
   "source": [
    "savefile=True\n",
    "if savefile:\n",
    "    pickle_out = open(outputfolder+\"roc_results_licks_mod-notdisVdis-notdis\", 'wb')\n",
    "    dill.dump([a, p], pickle_out)\n",
    "    pickle_out.close()"
   ]
  },
  {
   "cell_type": "code",
   "execution_count": 90,
   "metadata": {},
   "outputs": [
    {
     "data": {
      "image/png": "[encoded data removed]",
      "text/plain": [
       "<Figure size 244.8x144 with 3 Axes>"
      ]
     },
     "metadata": {
      "needs_background": "light"
     },
     "output_type": "display_data"
    }
   ],
   "source": [
    "%run ../figs4roc.py\n",
    "\n",
    "try:\n",
    "    pickle_in = open(outputfolder+\"roc_results_licks_mod-notdisVdis-notdis\", 'rb')\n",
    "except FileNotFoundError:\n",
    "        print('Cannot access pickled file')\n",
    "\n",
    "[a, p] = dill.load(pickle_in)\n",
    "\n",
    "f = plt.figure(figsize=(3.4,2))\n",
    "f, ax = plot_ROC_and_line(f, a, p, mod_notdis_hist, dis_notdis_hist,\n",
    "                 cdict = [(0, 'darkturquoise'), (0.25, 'darkturquoise'), (0.5, 'white'), (0.75, 'dodgerblue'), (1, 'dodgerblue')],\n",
    "                 colors = ['darkturquoise', 'dodgerblue'],\n",
    "                 labels=['Modelled', 'Distraction'],\n",
    "                 labeloffset=0.5,\n",
    "                 ylabel='Licks (Hz)')\n",
    "\n",
    "ax[1].set_yticks([0, 5, 10])\n",
    "ax[0].set_title('Not distracted trials')\n",
    "\n",
    "f.savefig(figfolder+\"fig4_mod-v-dis_notdistracted trials.pdf\")"
   ]
  },
  {
   "cell_type": "code",
   "execution_count": 86,
   "metadata": {},
   "outputs": [
    {
     "data": {
      "image/png": "[encoded data removed]",
      "text/plain": [
       "<Figure size 244.8x144 with 3 Axes>"
      ]
     },
     "metadata": {
      "needs_background": "light"
     },
     "output_type": "display_data"
    }
   ],
   "source": [
    "try:\n",
    "    pickle_in = open(outputfolder+\"roc_results_licks_mod-disVdis-dis\", 'rb')\n",
    "except FileNotFoundError:\n",
    "        print('Cannot access pickled file')\n",
    "\n",
    "[a, p] = dill.load(pickle_in)\n",
    "\n",
    "\n",
    "f = plt.figure(figsize=(3.4,2))\n",
    "f, ax = plot_ROC_and_line(f, a, p, mod_dis_hist, dis_dis_hist,\n",
    "                 cdict = [(0, 'darkturquoise'), (0.25, 'darkturquoise'), (0.5, 'white'), (0.75, 'dodgerblue'), (1, 'dodgerblue')],\n",
    "                 colors = ['darkturquoise', 'dodgerblue'],\n",
    "                 labels=['Modelled', 'Distraction'],\n",
    "                 labeloffset=0,\n",
    "                 ylabel='Licks (Hz)')\n",
    "\n",
    "ax[1].set_yticks([0, 1, 2, 3])\n",
    "ax[0].set_title('Distracted trials')\n",
    "\n",
    "f.savefig(figfolder+\"fig4_mod-v-dis_distracted trials.pdf\")\n"
   ]
  },
  {
   "cell_type": "code",
   "execution_count": 88,
   "metadata": {},
   "outputs": [
    {
     "data": {
      "text/plain": [
       "19"
      ]
     },
     "execution_count": 88,
     "metadata": {},
     "output_type": "execute_result"
    }
   ],
   "source": [
    "len(mod_dis_hist[0])"
   ]
  },
  {
   "cell_type": "code",
   "execution_count": null,
   "metadata": {},
   "outputs": [],
   "source": []
  }
 ],
 "metadata": {
  "kernelspec": {
   "display_name": "Python 3",
   "language": "python",
   "name": "python3"
  },
  "language_info": {
   "codemirror_mode": {
    "name": "ipython",
    "version": 3
   },
   "file_extension": ".py",
   "mimetype": "text/x-python",
   "name": "python",
   "nbconvert_exporter": "python",
   "pygments_lexer": "ipython3",
   "version": "3.7.6"
  }
 },
 "nbformat": 4,
 "nbformat_minor": 4
}
