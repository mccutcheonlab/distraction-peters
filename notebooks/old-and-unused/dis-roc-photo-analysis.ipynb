{
 "cells": [
  {
   "cell_type": "code",
   "execution_count": 1,
   "metadata": {},
   "outputs": [
    {
     "name": "stderr",
     "output_type": "stream",
     "text": [
      "C:\\Github\\Distraction-Paper\\JM_custom_figs.py:11: DeprecationWarning: Using or importing the ABCs from 'collections' instead of from 'collections.abc' is deprecated since Python 3.3,and in 3.9 it will stop working\n",
      "  from collections import Sequence\n"
     ]
    }
   ],
   "source": [
    "import dill\n",
    "import matplotlib.pyplot as plt\n",
    "import matplotlib as mpl\n",
    "import matplotlib.transforms as transforms\n",
    "from matplotlib.backends.backend_pdf import PdfPages\n",
    "import numpy as np\n",
    "\n",
    "%run ../JM_custom_figs.py\n",
    "%run ../fx4roc.py"
   ]
  },
  {
   "cell_type": "code",
   "execution_count": 2,
   "metadata": {},
   "outputs": [],
   "source": [
    "datafolder = \"C:\\\\Github\\\\Distraction-Paper\\\\data\\\\\"\n",
    "figfolder = \"C:\\\\Github\\\\Distraction-Paper\\\\figs\\\\\"\n",
    "outputfolder = \"C:\\\\Github\\\\Distraction-Paper\\\\output\\\\\"\n",
    "\n",
    "try:\n",
    "    pickle_in = open(datafolder + \"distraction_data_only_snips.pickle\", 'rb')\n",
    "except FileNotFoundError:\n",
    "        print('Cannot access pickled file')\n",
    "\n",
    "[modDict, disDict, habDict] = dill.load(pickle_in)"
   ]
  },
  {
   "cell_type": "code",
   "execution_count": 3,
   "metadata": {},
   "outputs": [
    {
     "data": {
      "text/plain": [
       "dict_keys(['rat', 'fs', 'tick', 'filt_sd', 'licks', 'licks_off', 'distractors', 'distracted', 'notdistracted', 'd_bool_array', 'pdp', 'pre_dp', 'lickdata', 'snips_distractors', 'snips_distracted', 'snips_not-distracted'])"
      ]
     },
     "execution_count": 3,
     "metadata": {},
     "output_type": "execute_result"
    }
   ],
   "source": [
    "rats = disDict.keys()\n",
    "rat= 'thph1.2'\n",
    "d = disDict[rat]\n",
    "d.keys()"
   ]
  },
  {
   "cell_type": "code",
   "execution_count": 13,
   "metadata": {},
   "outputs": [],
   "source": [
    "def resample_snips(snips, factor=0.1):\n",
    "    if len(snips)>0:\n",
    "        n_bins = len(snips[0])\n",
    "        out_bins = int(n_bins * factor)\n",
    "\n",
    "        snips_out = []\n",
    "        for snip in snips:\n",
    "            snips_out.append(np.mean(np.reshape(snip, (out_bins, -1)), axis=1))\n",
    "    \n",
    "        return snips_out\n",
    "    else:\n",
    "        return []"
   ]
  },
  {
   "cell_type": "code",
   "execution_count": 16,
   "metadata": {},
   "outputs": [],
   "source": [
    "photo_snips_dis, photo_snips_notdis, = [], []\n",
    "\n",
    "rats=disDict.keys()\n",
    "\n",
    "for rat in rats:\n",
    "    d = disDict[rat]\n",
    "    \n",
    "    snips_dis = resample_snips(d['snips_distracted']['filt_z'])\n",
    "    photo_snips_dis.append(snips_dis)\n",
    "    \n",
    "    snips_notdis = resample_snips(d['snips_not-distracted']['filt_z'])\n",
    "    photo_snips_notdis.append(snips_notdis)\n",
    "    \n",
    "photo_snips_dis_flat = flatten_list(photo_snips_dis)\n",
    "photo_snips_notdis_flat = flatten_list(photo_snips_notdis)\n",
    "    "
   ]
  },
  {
   "cell_type": "code",
   "execution_count": 6,
   "metadata": {},
   "outputs": [],
   "source": [
    "try:\n",
    "    pickle_in = open(outputfolder+\"roc_results_photo_disVnotdis.pickle\", 'rb')\n",
    "except FileNotFoundError:\n",
    "        print('Cannot access pickled file')\n",
    "\n",
    "[a, p, photo_snips_dis, photo_snips_notdis] = dill.load(pickle_in)"
   ]
  },
  {
   "cell_type": "code",
   "execution_count": 21,
   "metadata": {},
   "outputs": [
    {
     "name": "stdout",
     "output_type": "stream",
     "text": [
      "Analysing column 0\n",
      "Analysing column 1\n",
      "Analysing column 2\n",
      "Analysing column 3\n",
      "Analysing column 4\n",
      "Analysing column 5\n",
      "Analysing column 6\n",
      "Analysing column 7\n",
      "Analysing column 8\n",
      "Analysing column 9\n",
      "Analysing column 10\n",
      "Analysing column 11\n",
      "Analysing column 12\n",
      "Analysing column 13\n",
      "Analysing column 14\n",
      "Analysing column 15\n",
      "Analysing column 16\n",
      "Analysing column 17\n",
      "Analysing column 18\n",
      "Analysing column 19\n",
      "--- Total ROC analysis took 219.40415692329407 seconds ---\n"
     ]
    }
   ],
   "source": [
    "# Cell to run ROC analysis on DISTRACTED vs. NON-DISTRACTED - takes a while so commented out unless needed\n",
    "%run ../fx4roc.py\n",
    "import time\n",
    "start_time = time.time()\n",
    "\n",
    "# a, p = nanroc(photo_snips_notdis_flat, photo_snips_dis_flat, n4shuf=2000)\n",
    "\n",
    "print(f\"--- Total ROC analysis took {(time.time() - start_time)} seconds ---\")\n"
   ]
  },
  {
   "cell_type": "code",
   "execution_count": 39,
   "metadata": {},
   "outputs": [],
   "source": [
    "savefile=True\n",
    "if savefile:\n",
    "    pickle_out = open(outputfolder+\"roc_results_photo_disVnotdis.pickle\", 'wb')\n",
    "    dill.dump([a, p, photo_snips_dis, photo_snips_notdis], pickle_out)\n",
    "    pickle_out.close()"
   ]
  },
  {
   "cell_type": "code",
   "execution_count": 70,
   "metadata": {},
   "outputs": [
    {
     "data": {
      "image/png": "[encoded data removed]",
      "text/plain": [
       "<Figure size 432x288 with 3 Axes>"
      ]
     },
     "metadata": {
      "needs_background": "light"
     },
     "output_type": "display_data"
    }
   ],
   "source": [
    "f, ax = plt.subplots(nrows=3)\n",
    "\n",
    "ax[0].plot(np.mean(photo_snips_dis_flat, axis=0), color='red')\n",
    "ax[0].plot(np.mean(photo_snips_notdis_flat, axis=0), color='grey')\n",
    "\n",
    "ax[0].set_ylabel('Z-score')\n",
    "ax[0].set_xticks([])\n",
    "\n",
    "ax[0].text(0.99, 0.95, 'Distracted', color='red', ha='right', va='top', transform=ax[0].transAxes)\n",
    "ax[0].text(0.99, 0.80, 'Not distracted', color='grey', ha='right', va='top', transform=ax[0].transAxes)\n",
    "\n",
    "ax[1].plot(a)\n",
    "ax[1].set_ylabel('ROC value')\n",
    "ax[1].set_xticks([])\n",
    "\n",
    "threshold = 0.05/len(p)\n",
    "sigpoints = np.array([pval < threshold for pval in p], dtype=bool)\n",
    "\n",
    "xdata = [x for x, L in zip(range(len(sigpoints)), sigpoints) if L]\n",
    "ydata = logical_subset(a, sigpoints)\n",
    "ax[1].scatter(xdata, ydata, color='red')\n",
    "\n",
    "ax[1]. set_ylim([-0.1, 1.1])\n",
    "\n",
    "ax[2].plot(p)\n",
    "ax[2].set_ylim([-0.1, 1.1])\n",
    "ax[2].set_ylabel('p')\n",
    "\n",
    "ax[2].set_xticks([0, 5, 10, 15])\n",
    "ax[2].set_xticklabels(['-5', '0', '5', '10'])\n",
    "ax[2].set_xlabel('Time from distractor (s)')\n",
    "\n",
    "f.savefig(outputfolder + \"photo_roc_analysis.png\")"
   ]
  },
  {
   "cell_type": "code",
   "execution_count": 13,
   "metadata": {},
   "outputs": [],
   "source": [
    "try:\n",
    "    pickle_in = open(outputfolder+\"roc_results_photo_modVdis\", 'rb')\n",
    "except FileNotFoundError:\n",
    "        print('Cannot access pickled file')\n",
    "\n",
    "[a, p, photo_snips_mod_day_flat, photo_snips_dis_day_flat] = dill.load(pickle_in)"
   ]
  },
  {
   "cell_type": "code",
   "execution_count": 114,
   "metadata": {},
   "outputs": [],
   "source": [
    "photo_snips_mod_day, photo_snips_dis_day, = [], []\n",
    "\n",
    "rats=['thph1.1']\n",
    "rats=disDict.keys()\n",
    "\n",
    "for rat in rats:\n",
    "    \n",
    "    d = modDict[rat]    \n",
    "    snips = resample_snips(d['snips_distractors']['filt_z'])\n",
    "    photo_snips_mod_day.append(snips)\n",
    "    \n",
    "    d = disDict[rat]\n",
    "    snips = resample_snips(d['snips_distractors']['filt_z'])\n",
    "    photo_snips_dis_day.append(snips)\n",
    "    \n",
    "photo_snips_mod_day_flat = flatten_list(photo_snips_mod_day)\n",
    "photo_snips_dis_day_flat = flatten_list(photo_snips_dis_day)"
   ]
  },
  {
   "cell_type": "code",
   "execution_count": 112,
   "metadata": {},
   "outputs": [
    {
     "ename": "IndexError",
     "evalue": "tuple index out of range",
     "output_type": "error",
     "traceback": [
      "\u001b[1;31m---------------------------------------------------------------------------\u001b[0m",
      "\u001b[1;31mIndexError\u001b[0m                                Traceback (most recent call last)",
      "\u001b[1;32m<ipython-input-112-f9fee127ee60>\u001b[0m in \u001b[0;36m<module>\u001b[1;34m\u001b[0m\n\u001b[0;32m      4\u001b[0m \u001b[0mstart_time\u001b[0m \u001b[1;33m=\u001b[0m \u001b[0mtime\u001b[0m\u001b[1;33m.\u001b[0m\u001b[0mtime\u001b[0m\u001b[1;33m(\u001b[0m\u001b[1;33m)\u001b[0m\u001b[1;33m\u001b[0m\u001b[1;33m\u001b[0m\u001b[0m\n\u001b[0;32m      5\u001b[0m \u001b[1;33m\u001b[0m\u001b[0m\n\u001b[1;32m----> 6\u001b[1;33m \u001b[0ma\u001b[0m\u001b[1;33m,\u001b[0m \u001b[0mp\u001b[0m \u001b[1;33m=\u001b[0m \u001b[0mnanroc\u001b[0m\u001b[1;33m(\u001b[0m\u001b[0mphoto_snips_mod_day\u001b[0m\u001b[1;33m,\u001b[0m \u001b[0mphoto_snips_dis_day\u001b[0m\u001b[1;33m,\u001b[0m \u001b[0mn4shuf\u001b[0m\u001b[1;33m=\u001b[0m\u001b[1;36m2000\u001b[0m\u001b[1;33m)\u001b[0m\u001b[1;33m\u001b[0m\u001b[1;33m\u001b[0m\u001b[0m\n\u001b[0m\u001b[0;32m      7\u001b[0m \u001b[1;33m\u001b[0m\u001b[0m\n\u001b[0;32m      8\u001b[0m \u001b[0mprint\u001b[0m\u001b[1;33m(\u001b[0m\u001b[1;34mf\"--- Total ROC analysis took {(time.time() - start_time)} seconds ---\"\u001b[0m\u001b[1;33m)\u001b[0m\u001b[1;33m\u001b[0m\u001b[1;33m\u001b[0m\u001b[0m\n",
      "\u001b[1;32mC:\\Github\\Distraction-Paper\\fx4roc.py\u001b[0m in \u001b[0;36mnanroc\u001b[1;34m(x, y, N, min4roc, n4shuf)\u001b[0m\n\u001b[0;32m     75\u001b[0m \u001b[1;33m\u001b[0m\u001b[0m\n\u001b[0;32m     76\u001b[0m     \u001b[1;31m# checks dimensions of matrices\u001b[0m\u001b[1;33m\u001b[0m\u001b[1;33m\u001b[0m\u001b[1;33m\u001b[0m\u001b[0m\n\u001b[1;32m---> 77\u001b[1;33m     \u001b[1;32mif\u001b[0m \u001b[0mnp\u001b[0m\u001b[1;33m.\u001b[0m\u001b[0mshape\u001b[0m\u001b[1;33m(\u001b[0m\u001b[0mx\u001b[0m\u001b[1;33m)\u001b[0m\u001b[1;33m[\u001b[0m\u001b[1;36m1\u001b[0m\u001b[1;33m]\u001b[0m \u001b[1;33m!=\u001b[0m \u001b[0mnp\u001b[0m\u001b[1;33m.\u001b[0m\u001b[0mshape\u001b[0m\u001b[1;33m(\u001b[0m\u001b[0my\u001b[0m\u001b[1;33m)\u001b[0m\u001b[1;33m[\u001b[0m\u001b[1;36m1\u001b[0m\u001b[1;33m]\u001b[0m\u001b[1;33m:\u001b[0m\u001b[1;33m\u001b[0m\u001b[1;33m\u001b[0m\u001b[0m\n\u001b[0m\u001b[0;32m     78\u001b[0m         \u001b[0mprint\u001b[0m\u001b[1;33m(\u001b[0m\u001b[1;34m'nanroc: matrices must have the same number of columns'\u001b[0m\u001b[1;33m)\u001b[0m\u001b[1;33m\u001b[0m\u001b[1;33m\u001b[0m\u001b[0m\n\u001b[0;32m     79\u001b[0m \u001b[1;33m\u001b[0m\u001b[0m\n",
      "\u001b[1;31mIndexError\u001b[0m: tuple index out of range"
     ]
    }
   ],
   "source": [
    "# Cell to run ROC analysis - takes a while so commented out unless needed\n",
    "%run ../fx4roc.py\n",
    "import time\n",
    "start_time = time.time()\n",
    "\n",
    "# a, p = nanroc(photo_snips_mod_day_flat, photo_snips_dis_day_flat, n4shuf=2000)\n",
    "\n",
    "print(f\"--- Total ROC analysis took {(time.time() - start_time)} seconds ---\")"
   ]
  },
  {
   "cell_type": "code",
   "execution_count": 115,
   "metadata": {},
   "outputs": [],
   "source": [
    "savefile=True\n",
    "if savefile:\n",
    "    pickle_out = open(outputfolder+\"roc_results_photo_modVdis\", 'wb')\n",
    "    dill.dump([a, p, photo_snips_mod_day, photo_snips_dis_day], pickle_out)\n",
    "    pickle_out.close()"
   ]
  },
  {
   "cell_type": "code",
   "execution_count": 11,
   "metadata": {},
   "outputs": [
    {
     "data": {
      "text/plain": [
       "Text(0.5, 0, 'Time from distractor (s)')"
      ]
     },
     "execution_count": 11,
     "metadata": {},
     "output_type": "execute_result"
    },
    {
     "data": {
      "image/png": "[encoded data removed]",
      "text/plain": [
       "<Figure size 432x288 with 3 Axes>"
      ]
     },
     "metadata": {
      "needs_background": "light"
     },
     "output_type": "display_data"
    }
   ],
   "source": [
    "f, ax = plt.subplots(nrows=3)\n",
    "\n",
    "ax[0].plot(np.mean(photo_snips_mod_day_flat, axis=0), color='red')\n",
    "ax[0].plot(np.mean(photo_snips_dis_day_flat, axis=0), color='grey')\n",
    "\n",
    "ax[0].set_ylabel('Z-score')\n",
    "ax[0].set_xticks([])\n",
    "\n",
    "ax[0].text(0.99, 0.95, 'Modelled', color='red', ha='right', va='top', transform=ax[0].transAxes)\n",
    "ax[0].text(0.99, 0.80, 'Distraction', color='grey', ha='right', va='top', transform=ax[0].transAxes)\n",
    "\n",
    "ax[1].plot(a)\n",
    "ax[1].set_ylabel('ROC value')\n",
    "ax[1].set_xticks([])\n",
    "\n",
    "threshold = 0.05/len(p)\n",
    "sigpoints = np.array([pval < threshold for pval in p], dtype=bool)\n",
    "\n",
    "xdata = [x for x, L in zip(range(len(sigpoints)), sigpoints) if L]\n",
    "ydata = logical_subset(a, sigpoints)\n",
    "ax[1].scatter(xdata, ydata, color='red')\n",
    "\n",
    "ax[1]. set_ylim([-0.1, 1.1])\n",
    "\n",
    "ax[2].plot(p)\n",
    "ax[2].set_ylim([-0.1, 1.1])\n",
    "ax[2].set_ylabel('p')\n",
    "\n",
    "ax[2].set_xticks([0, 5, 10, 15])\n",
    "ax[2].set_xticklabels(['-5', '0', '5', '10'])\n",
    "ax[2].set_xlabel('Time from distractor (s)')\n",
    "\n",
    "# f.savefig(outputfolder + \"photo_roc_analysis.png\")"
   ]
  },
  {
   "cell_type": "code",
   "execution_count": 26,
   "metadata": {},
   "outputs": [
    {
     "data": {
      "image/png": "[encoded data removed]",
      "text/plain": [
       "<Figure size 244.8x144 with 3 Axes>"
      ]
     },
     "metadata": {
      "needs_background": "light"
     },
     "output_type": "display_data"
    }
   ],
   "source": [
    "import matplotlib.gridspec as gridspec\n",
    "from matplotlib.colors import LinearSegmentedColormap\n",
    "\n",
    "f = plt.figure(figsize=(3.4,2))\n",
    "\n",
    "gs=gridspec.GridSpec(2,2, figure=f, height_ratios=[0.25, 1], width_ratios=[1, 0.05], wspace=0.05,\n",
    "                    bottom=0.2, right=0.75, left=0.15)\n",
    "\n",
    "ax[0] = f.add_subplot(gs[0, 0])\n",
    "\n",
    "# Creates colormap for ROC\n",
    "\n",
    "cdict = [(0, 'darkturquoise'), (0.25, 'darkturquoise'), (0.5, 'white'), (0.75, 'dodgerblue'), (1, 'dodgerblue')]\n",
    "heatmap_color_scheme = LinearSegmentedColormap.from_list('rocmap', cdict)\n",
    "\n",
    "roc_for_plot = a + [0]\n",
    "xvals=np.arange(-0.5,20.5)\n",
    "yvals=[1, 2]\n",
    "xx, yy = np.meshgrid(xvals, yvals)\n",
    "    \n",
    "mesh = ax[0].pcolormesh(xx, yy, [roc_for_plot, roc_for_plot], cmap=heatmap_color_scheme, shading = 'flat')\n",
    "mesh.set_clim([0, 1])\n",
    "\n",
    "\n",
    "xdata = [x for x, L in zip(range(len(sigpoints)), sigpoints) if L]\n",
    "ydata = logical_subset(a, sigpoints)\n",
    "ax[0].scatter(xdata, [2.5]*len(xdata), color='k', marker='.', clip_on=False)\n",
    "ax[0].text(-1, 2.5, 'p<0.05', va='center', ha='right')\n",
    "\n",
    "ax[0].spines['top'].set_visible(False)\n",
    "ax[0].spines['right'].set_visible(False)\n",
    "ax[0].spines['bottom'].set_visible(False)\n",
    "ax[0].spines['left'].set_visible(False)\n",
    "ax[0].set_xticks([])\n",
    "ax[0].set_yticks([])\n",
    "\n",
    "\n",
    "cbar_ax = f.add_subplot(gs[0,1])   \n",
    "cbar = f.colorbar(mesh, cax=cbar_ax, ticks=[0, 1], label='ROC')\n",
    "\n",
    "ax[1] = f.add_subplot(gs[1, 0])\n",
    "\n",
    "shadedError(ax[1], photo_snips_mod_day_flat, linecolor='darkturquoise')\n",
    "shadedError(ax[1], photo_snips_dis_day_flat, linecolor='dodgerblue')\n",
    "\n",
    "ax[1].set_ylabel('Z-score')\n",
    "ax[1].spines['top'].set_visible(False)\n",
    "ax[1].spines['right'].set_visible(False)\n",
    "\n",
    "ax[1].set_xticks([0, 5, 10, 15])\n",
    "ax[1].set_xticklabels(['-5', '0', '5', '10'])\n",
    "ax[1].set_xlabel('Time from distractor (s)')\n",
    "\n",
    "ax[1].text(20, np.mean(photo_snips_mod_day_flat, axis=0)[-1], 'Modelled', color='darkturquoise', ha='left', va='center')\n",
    "ax[1].text(20, np.mean(photo_snips_dis_day_flat, axis=0)[-1], 'Distraction', color='dodgerblue', ha='left', va='center')\n",
    "\n",
    "ax[0].set_xlim(ax[1].get_xlim())\n",
    "\n",
    "f.savefig(figfolder+\"fig3_roc-photo-modVdis.pdf\")\n"
   ]
  },
  {
   "cell_type": "code",
   "execution_count": 58,
   "metadata": {},
   "outputs": [],
   "source": [
    "epoch1_mod, epoch1_dis = [], []\n",
    "epoch2_mod, epoch2_dis = [], []\n",
    "epoch3_mod, epoch3_dis = [], []\n",
    "\n",
    "for day, epoch1, epoch2, epoch3 in zip([photo_snips_mod_day, photo_snips_dis_day],\n",
    "                             [epoch1_mod, epoch1_dis],\n",
    "                              [epoch2_mod, epoch2_dis],\n",
    "                                      [epoch3_mod, epoch3_dis]):\n",
    "    for rat in day:\n",
    "        e1, e2, e3 = [], [], []\n",
    "        for snip in rat:\n",
    "            e1.append(np.mean(snip[0:5]))\n",
    "            e2.append(np.mean(snip[6:9]))\n",
    "            e3.append(np.mean(snip[9:]))\n",
    "        epoch1.append(np.mean(e1))\n",
    "        epoch2.append(np.mean(e2))\n",
    "        epoch3.append(np.mean(e3))\n",
    "\n",
    "    \n",
    "#     print(e1)\n",
    "#     epoch1.append(np.mean(e1))\n",
    "    \n",
    "#     pre_dis, pre_notdis = [], []\n",
    "#     post_dis, post_notdis = [], []\n",
    "    \n",
    "#     for snip in snips:\n",
    "        \n",
    "#         nlicks_before_distractor = len([lick for lick in snip if lick<0])\n",
    "#         nlicks_after_distractor = len([lick for lick in snip if lick>1])\n",
    "        \n",
    "#         if check_val_between(snip):\n",
    "#             pre_notdis.append(nlicks_before_distractor)\n",
    "#             post_notdis.append(nlicks_after_distractor)\n",
    "#         else:\n",
    "#             pre_dis.append(nlicks_before_distractor)\n",
    "#             post_dis.append(nlicks_after_distractor)\n",
    "\n",
    "#     pre_lickrate_dis.append(np.mean(pre_dis)/10) # dividing by 10 puts this into Hz as a 10s predistractor period is used\n",
    "#     pre_lickrate_notdis.append(np.mean(pre_notdis)/10)\n",
    "    \n",
    "#     post_lickrate_dis.append(np.mean(post_dis)/10)\n",
    "#     post_lickrate_notdis.append(np.mean(post_notdis)/10)"
   ]
  },
  {
   "cell_type": "code",
   "execution_count": 102,
   "metadata": {},
   "outputs": [
    {
     "name": "stdout",
     "output_type": "stream",
     "text": [
      "Epoch 1 - pre 0.7430495132300441 0.4706672019396775\n",
      "Epoch 2 - dis -2.7938530643336805 0.015207585946736157\n",
      "Epoch 3 - post 0.4336395958584519 0.6716593062202525\n"
     ]
    },
    {
     "data": {
      "image/png": "[encoded data removed]",
      "text/plain": [
       "<Figure size 288x144 with 3 Axes>"
      ]
     },
     "metadata": {
      "needs_background": "light"
     },
     "output_type": "display_data"
    }
   ],
   "source": [
    "       \n",
    "f, ax = plt.subplots(figsize=(4,2), ncols=3)\n",
    "f.subplots_adjust(left=0.15, wspace=0.3)\n",
    "\n",
    "colors=['darkturquoise', 'dodgerblue']\n",
    "\n",
    "barscatter([epoch1_mod, epoch1_dis], paired=True,\n",
    "           barfacecolor=colors, barfacecoloroption='individual',\n",
    "           ax=ax[0])\n",
    "\n",
    "barscatter([epoch2_mod, epoch2_dis], paired=True,\n",
    "           barfacecolor=colors, barfacecoloroption='individual',\n",
    "           ax=ax[1])\n",
    "\n",
    "barscatter([epoch3_mod, epoch3_dis], paired=True,\n",
    "           barfacecolor=colors, barfacecoloroption='individual',\n",
    "           ax=ax[2])\n",
    "\n",
    "for axis in ax:\n",
    "    axis.set_xticks([])\n",
    "    axis.set_ylim([-4, 3.5])\n",
    "    axis.set_yticks([-3, 0, 3])\n",
    "    axis.set_yticklabels([])\n",
    "    axis.text(1, -3.9, 'Mod', ha='center')\n",
    "    axis.text(2, -3.9, 'Dis', ha='center')\n",
    "    \n",
    "ax[0].set_ylabel('Z-score')\n",
    "\n",
    "\n",
    "ax[0].set_yticklabels([\"-3\", '0', '3'])\n",
    "\n",
    "ax[0].set_title('Pre')\n",
    "ax[1].set_title('Dist.')\n",
    "ax[2].set_title('Post')\n",
    "\n",
    "\n",
    "# # ax[1].set_ylabel('Mean post-distractor lick rate (Hz)')\n",
    "# ax[1].set_yticks([0, 5, 10])\n",
    "# ax[1].set_ylim([-1, 15])\n",
    "# ax[1].set_title('Post')\n",
    "\n",
    "f.savefig(figfolder+\"fig3_photo_modVdis_epochs.pdf\")\n",
    "\n",
    "from scipy import stats\n",
    "\n",
    "t, p = stats.ttest_rel(epoch1_mod, epoch1_dis)\n",
    "print('Epoch 1 - pre', t, p)\n",
    "\n",
    "t, p = stats.ttest_rel(epoch2_mod, epoch2_dis)\n",
    "print('Epoch 2 - dis', t, p)\n",
    "\n",
    "t, p = stats.ttest_rel(epoch3_mod, epoch3_dis)\n",
    "print('Epoch 3 - post', t, p)"
   ]
  },
  {
   "cell_type": "code",
   "execution_count": 54,
   "metadata": {},
   "outputs": [
    {
     "data": {
      "text/plain": [
       "[0.3875,\n",
       " 0.374,\n",
       " 0.2945,\n",
       " 0.5985,\n",
       " 0.17149999999999999,\n",
       " 0.2115,\n",
       " 0.0,\n",
       " 0.0,\n",
       " 0.002,\n",
       " 0.14850000000000002,\n",
       " 0.4575,\n",
       " 0.905,\n",
       " 0.692,\n",
       " 0.6675,\n",
       " 0.8765000000000001,\n",
       " 0.39,\n",
       " 0.169,\n",
       " 0.0695,\n",
       " 0.029,\n",
       " 0.0375]"
      ]
     },
     "execution_count": 54,
     "metadata": {},
     "output_type": "execute_result"
    }
   ],
   "source": [
    "p"
   ]
  },
  {
   "cell_type": "code",
   "execution_count": null,
   "metadata": {},
   "outputs": [],
   "source": []
  }
 ],
 "metadata": {
  "kernelspec": {
   "display_name": "Python 3",
   "language": "python",
   "name": "python3"
  },
  "language_info": {
   "codemirror_mode": {
    "name": "ipython",
    "version": 3
   },
   "file_extension": ".py",
   "mimetype": "text/x-python",
   "name": "python",
   "nbconvert_exporter": "python",
   "pygments_lexer": "ipython3",
   "version": "3.7.6"
  }
 },
 "nbformat": 4,
 "nbformat_minor": 4
}
